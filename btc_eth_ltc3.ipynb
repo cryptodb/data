{
  "nbformat": 4,
  "nbformat_minor": 0,
  "metadata": {
    "colab": {
      "name": "btc eth ltc3.ipynb",
      "provenance": [],
      "collapsed_sections": [],
      "authorship_tag": "ABX9TyPz1U3StjcW6fPjQIXPvQub",
      "include_colab_link": true
    },
    "kernelspec": {
      "name": "python3",
      "display_name": "Python 3"
    },
    "accelerator": "GPU"
  },
  "cells": [
    {
      "cell_type": "markdown",
      "metadata": {
        "id": "view-in-github",
        "colab_type": "text"
      },
      "source": [
        "<a href=\"https://colab.research.google.com/github/cryptodb/data/blob/main/btc_eth_ltc3.ipynb\" target=\"_parent\"><img src=\"https://colab.research.google.com/assets/colab-badge.svg\" alt=\"Open In Colab\"/></a>"
      ]
    },
    {
      "cell_type": "code",
      "metadata": {
        "id": "zP78LDQzXo7P"
      },
      "source": [
        "#%%\n",
        "\n",
        "import os\n",
        "import numpy as np\n",
        "import tensorflow as tf\n",
        "from tensorflow import keras\n",
        "import pandas as pd\n",
        "import seaborn as sns\n",
        "from pylab import rcParams\n",
        "import matplotlib.pyplot as plt\n",
        "from matplotlib import rc\n",
        "from sklearn.preprocessing import MinMaxScaler\n",
        "from tensorflow.keras.layers import Bidirectional, Dropout, Activation, Dense, LSTM\n",
        "from tensorflow.python.keras.layers import CuDNNLSTM\n",
        "from tensorflow.keras.models import Sequential\n",
        "import tensorflow as tf\n",
        "\n",
        "gpus = tf.config.experimental.list_physical_devices('GPU')\n",
        "\n",
        "for gpu in gpus:\n",
        "    tf.config.experimental.set_memory_growth(gpu, True)\n",
        "# assert tf.executing_eagerly()\n",
        "\n",
        "from sklearn.preprocessing import MinMaxScaler\n",
        "\n",
        "\n",
        "import pandas as pd\n",
        "import requests\n",
        "import io\n",
        "\n",
        "# # Username of your GitHub account\n",
        "\n",
        "# username = 'REPLACE-THIS-WITH-YOUR-GITHUB-ACCOUNT-USERNAME'\n",
        "\n",
        "# # Personal Access Token (PAO) from your GitHub account\n",
        "\n",
        "# token = 'REPLACE-THIS-WITH-YOUR-GITHUB-ACCOUNT-PAO'\n",
        "\n",
        "# # Creates a re-usable session object with your creds in-built\n",
        "\n",
        "# github_session = requests.Session()\n",
        "# github_session.auth = (username, token)\n",
        "    \n",
        "# # Downloading the csv file from your GitHub\n",
        "\n",
        "# url = \"https://github.com/cryptodb/CryptoML/blob/master/btc_eth_ltc_minutes_coingeko.csv\" # Make sure the url is the raw version of the file on GitHub\n",
        "# download = github_session.get(url).content\n",
        "\n",
        "# # Reading the downloaded content and making it a pandas dataframe\n",
        "\n",
        "# df = pd.read_csv(io.StringIO(download.decode('utf-8')))\n",
        "# btc_eth_ltc_coingeko_minute.csv\n",
        "csv_path = \"https://github.com/cryptodb/data/raw/main/btc_eth_ltc_minutes_coingeko.csv\"\n",
        "# csv_path = \"btc_eth_ltc_minutes_coingeko.csv\"\n",
        "df = pd.read_csv(csv_path, parse_dates=['time'])\n",
        "df = df.sort_values('time')\n",
        "\n",
        "#%%\n",
        "\n",
        "\n"
      ],
      "execution_count": null,
      "outputs": []
    },
    {
      "cell_type": "code",
      "metadata": {
        "id": "UPAv9PxDb5pH"
      },
      "source": [
        "\n",
        "scaler = MinMaxScaler()\n",
        "predict_value = 'ltc_close'\n",
        "time_frame = 'minutes'\n",
        "close_price = df.ltc_close.values.reshape(-1, 1)\n",
        "\n",
        "scaled_close = scaler.fit_transform(close_price)\n",
        "\n",
        "#%%\n",
        "\n",
        "scaled_close = scaled_close[~np.isnan(scaled_close)]\n",
        "scaled_close = scaled_close.reshape(-1, 1)\n",
        "\n",
        "#%%\n",
        "\n",
        "SEQ_LEN = 3*60\n",
        "\n",
        "def to_sequences(data, seq_len):\n",
        "    d = []\n",
        "\n",
        "    for index in range(len(data) - seq_len):\n",
        "        d.append(data[index: index + seq_len])\n",
        "\n",
        "    return np.array(d)\n",
        "\n",
        "def preprocess(data_raw, seq_len, train_split):\n",
        "\n",
        "    data = to_sequences(data_raw, seq_len)\n",
        "\n",
        "    num_train = int(train_split * data.shape[0])\n",
        "\n",
        "    X_train = data[:num_train, :-1, :]\n",
        "    y_train = data[:num_train, -1, :]\n",
        "\n",
        "    X_test = data[num_train:, :-1, :]\n",
        "    y_test = data[num_train:, -1, :]\n",
        "\n",
        "    return X_train, y_train, X_test, y_test\n",
        "\n",
        "\n",
        "X_train, y_train, X_test, y_test = preprocess(scaled_close, SEQ_LEN, train_split = 0.95)\n",
        "\n",
        "#%%\n",
        "\n"
      ],
      "execution_count": 16,
      "outputs": []
    },
    {
      "cell_type": "code",
      "metadata": {
        "colab": {
          "base_uri": "https://localhost:8080/"
        },
        "id": "uNQzwMd0cejM",
        "outputId": "df705098-1ff2-4642-e385-01367c9e893a"
      },
      "source": [
        "DROPOUT = 0.2\n",
        "WINDOW_SIZE = SEQ_LEN - 1\n",
        "EMBEDDING_DIM = 64\n",
        "model = keras.Sequential()\n",
        "\n",
        "model.add(Bidirectional(\n",
        "  CuDNNLSTM(WINDOW_SIZE, return_sequences=True),\n",
        "  input_shape=(WINDOW_SIZE, X_train.shape[-1])\n",
        "))\n",
        "model.add(Dropout(rate=DROPOUT))\n",
        "\n",
        "model.add(Bidirectional(\n",
        "  CuDNNLSTM((WINDOW_SIZE * 2), return_sequences=True)\n",
        "))\n",
        "\n",
        "model.add(Dropout(rate=DROPOUT))\n",
        "model.add(Bidirectional(\n",
        "  CuDNNLSTM(WINDOW_SIZE, return_sequences=False)\n",
        "))\n",
        "\n",
        "model.add(Dense(units=1))\n",
        "\n",
        "model.add(Activation('linear'))\n",
        "print(model.summary())\n",
        "\n",
        "#%%\n",
        "\n",
        "BATCH_SIZE = 200\n",
        "print('batch='+str(BATCH_SIZE)+ ' SEQ=' + str(SEQ_LEN) + ' time frame '+ time_frame +'\\n file=' + csv_path, ' predict_value= ' + predict_value)\n",
        "model.compile(\n",
        "    loss='mean_squared_error',\n",
        "    optimizer='adam'\n",
        ")\n",
        "\n",
        "history = model.fit(\n",
        "    X_train,\n",
        "    y_train,\n",
        "    epochs=50,\n",
        "    batch_size=BATCH_SIZE,\n",
        "    shuffle=False,\n",
        "    validation_split=0.15\n",
        ")\n"
      ],
      "execution_count": null,
      "outputs": [
        {
          "output_type": "stream",
          "text": [
            "Model: \"sequential_3\"\n",
            "_________________________________________________________________\n",
            "Layer (type)                 Output Shape              Param #   \n",
            "=================================================================\n",
            "bidirectional_9 (Bidirection (None, 179, 358)          260624    \n",
            "_________________________________________________________________\n",
            "dropout_6 (Dropout)          (None, 179, 358)          0         \n",
            "_________________________________________________________________\n",
            "bidirectional_10 (Bidirectio (None, 179, 716)          2056352   \n",
            "_________________________________________________________________\n",
            "dropout_7 (Dropout)          (None, 179, 716)          0         \n",
            "_________________________________________________________________\n",
            "bidirectional_11 (Bidirectio (None, 358)               1284504   \n",
            "_________________________________________________________________\n",
            "dense_3 (Dense)              (None, 1)                 359       \n",
            "_________________________________________________________________\n",
            "activation_3 (Activation)    (None, 1)                 0         \n",
            "=================================================================\n",
            "Total params: 3,601,839\n",
            "Trainable params: 3,601,839\n",
            "Non-trainable params: 0\n",
            "_________________________________________________________________\n",
            "None\n",
            "batch=200 SEQ=180 time frame minutes\n",
            " file=https://github.com/cryptodb/data/raw/main/btc_eth_ltc_minutes_coingeko.csv  predict_value= ltc_close\n",
            "Epoch 1/50\n",
            "139/139 [==============================] - 71s 510ms/step - loss: 0.0036 - val_loss: 0.0283\n",
            "Epoch 2/50\n",
            "139/139 [==============================] - 57s 410ms/step - loss: 0.0107 - val_loss: 0.0790\n",
            "Epoch 3/50\n",
            "139/139 [==============================] - 56s 403ms/step - loss: 0.0178 - val_loss: 0.1496\n",
            "Epoch 4/50\n",
            "139/139 [==============================] - 56s 404ms/step - loss: 0.0177 - val_loss: 0.1796\n",
            "Epoch 5/50\n",
            "139/139 [==============================] - 56s 406ms/step - loss: 0.0152 - val_loss: 0.1854\n",
            "Epoch 6/50\n",
            "139/139 [==============================] - 57s 407ms/step - loss: 0.0127 - val_loss: 0.1567\n",
            "Epoch 7/50\n",
            "139/139 [==============================] - 57s 407ms/step - loss: 0.0076 - val_loss: 0.1088\n",
            "Epoch 8/50\n",
            "139/139 [==============================] - 57s 407ms/step - loss: 0.0046 - val_loss: 0.0682\n",
            "Epoch 9/50\n",
            "139/139 [==============================] - 56s 405ms/step - loss: 0.0031 - val_loss: 0.0566\n",
            "Epoch 10/50\n",
            "139/139 [==============================] - 56s 403ms/step - loss: 0.0033 - val_loss: 0.0571\n",
            "Epoch 11/50\n",
            "139/139 [==============================] - 56s 403ms/step - loss: 0.0037 - val_loss: 0.0611\n",
            "Epoch 12/50\n",
            "139/139 [==============================] - 56s 404ms/step - loss: 0.0037 - val_loss: 0.0577\n",
            "Epoch 13/50\n",
            "139/139 [==============================] - 56s 405ms/step - loss: 0.0045 - val_loss: 0.0656\n",
            "Epoch 14/50\n",
            "139/139 [==============================] - 56s 405ms/step - loss: 0.0041 - val_loss: 0.0605\n",
            "Epoch 15/50\n",
            "139/139 [==============================] - 56s 405ms/step - loss: 0.0039 - val_loss: 0.0200\n",
            "Epoch 16/50\n",
            "139/139 [==============================] - 56s 406ms/step - loss: 0.0053 - val_loss: 0.0833\n",
            "Epoch 17/50\n",
            "139/139 [==============================] - 56s 406ms/step - loss: 0.0081 - val_loss: 0.0442\n",
            "Epoch 18/50\n",
            "139/139 [==============================] - 55s 398ms/step - loss: 0.0227 - val_loss: 0.0348\n",
            "Epoch 19/50\n",
            "139/139 [==============================] - 55s 397ms/step - loss: 0.0176 - val_loss: 0.0092\n",
            "Epoch 20/50\n",
            "139/139 [==============================] - 55s 396ms/step - loss: 0.0230 - val_loss: 0.0452\n",
            "Epoch 21/50\n",
            "139/139 [==============================] - 55s 396ms/step - loss: 0.0162 - val_loss: 0.0593\n",
            "139/139 [==============================] - 55s 396ms/step - loss: 0.0161 - val_loss: 0.0663\n",
            "Epoch 23/50\n",
            "139/139 [==============================] - 55s 396ms/step - loss: 0.0167 - val_loss: 0.0694\n",
            "Epoch 24/50\n",
            "139/139 [==============================] - 55s 396ms/step - loss: 0.0171 - val_loss: 0.0665\n",
            "Epoch 25/50\n",
            "139/139 [==============================] - 55s 397ms/step - loss: 0.0176 - val_loss: 0.0579\n",
            "Epoch 26/50\n",
            "139/139 [==============================] - 55s 398ms/step - loss: 0.0184 - val_loss: 0.0492\n",
            "Epoch 27/50\n",
            "139/139 [==============================] - 55s 398ms/step - loss: 0.0193 - val_loss: 0.0416\n",
            "Epoch 28/50\n",
            "139/139 [==============================] - 55s 397ms/step - loss: 0.0201 - val_loss: 0.0352\n",
            "Epoch 29/50\n",
            "139/139 [==============================] - 55s 396ms/step - loss: 0.0208 - val_loss: 0.0303\n",
            "Epoch 30/50\n",
            "139/139 [==============================] - 55s 397ms/step - loss: 0.0213 - val_loss: 0.0265\n",
            "Epoch 31/50\n",
            "139/139 [==============================] - 55s 396ms/step - loss: 0.0216 - val_loss: 0.0244\n",
            "Epoch 32/50\n",
            "139/139 [==============================] - 55s 396ms/step - loss: 0.0217 - val_loss: 0.0233\n",
            "Epoch 33/50\n",
            "139/139 [==============================] - 55s 396ms/step - loss: 0.0216 - val_loss: 0.0228\n",
            "Epoch 34/50\n",
            "139/139 [==============================] - 55s 396ms/step - loss: 0.0214 - val_loss: 0.0227\n",
            "Epoch 35/50\n",
            "139/139 [==============================] - 55s 395ms/step - loss: 0.0211 - val_loss: 0.0228\n",
            "Epoch 36/50\n",
            "139/139 [==============================] - 55s 397ms/step - loss: 0.0209 - val_loss: 0.0230\n",
            "Epoch 37/50\n",
            "139/139 [==============================] - 55s 397ms/step - loss: 0.0208 - val_loss: 0.0232\n",
            "Epoch 38/50\n",
            "139/139 [==============================] - 55s 397ms/step - loss: 0.0207 - val_loss: 0.0233\n",
            "Epoch 39/50\n",
            "113/139 [=======================>......] - ETA: 9s - loss: 0.0216 "
          ],
          "name": "stdout"
        }
      ]
    },
    {
      "cell_type": "code",
      "metadata": {
        "id": "0KfF5ofIX8y-"
      },
      "source": [
        "#%%\n",
        "\n",
        "y_hat = model.predict(X_test)\n",
        "\n",
        "#%%\n",
        "\n",
        "y_test_inverse = scaler.inverse_transform(y_test)\n",
        "y_hat_inverse = scaler.inverse_transform(y_hat)\n",
        "\n",
        "#%%\n",
        "\n",
        "model.evaluate(X_test, y_test)\n",
        "#%%"
      ],
      "execution_count": 12,
      "outputs": []
    },
    {
      "cell_type": "code",
      "metadata": {
        "colab": {
          "base_uri": "https://localhost:8080/",
          "height": 295
        },
        "id": "xB2enVWHX_T0",
        "outputId": "80d8384f-8d76-4e6e-ce7a-a58a491277d8"
      },
      "source": [
        "\n",
        "import datetime\n",
        "plt.plot(history.history['loss'])\n",
        "plt.plot(history.history['val_loss'])\n",
        "plt.title(predict_value + \"model loss \" + str( datetime.datetime.now()))\n",
        "plt.ylabel('loss')\n",
        "plt.xlabel('epoch')\n",
        "plt.legend(['train', 'test'], loc='upper left')\n",
        "plt.show()\n",
        "#%%\n"
      ],
      "execution_count": 14,
      "outputs": [
        {
          "output_type": "display_data",
          "data": {
            "image/png": "[encoded data removed]",
            "text/plain": [
              "<Figure size 432x288 with 1 Axes>"
            ]
          },
          "metadata": {
            "tags": [],
            "needs_background": "light"
          }
        }
      ]
    },
    {
      "cell_type": "code",
      "metadata": {
        "colab": {
          "base_uri": "https://localhost:8080/",
          "height": 295
        },
        "id": "MEjSc_SHeXaA",
        "outputId": "e5bf795a-b81a-4534-9415-409c7dd4e42a"
      },
      "source": [
        "\n",
        "y_hat = model.predict(X_test)\n",
        "\n",
        "y_test_inverse = scaler.inverse_transform(y_test)\n",
        "y_hat_inverse = scaler.inverse_transform(y_hat)\n",
        "\n",
        "plt.plot(y_test_inverse, label=\"Actual Price\", color='green')\n",
        "plt.plot(y_hat_inverse, label=\"Predicted Price\", color='red')\n",
        "\n",
        "plt.title(predict_value +\" \" + time_frame +\" price prediction \" + str(datetime.datetime.now()))\n",
        "plt.xlabel('Time ['+time_frame +']')\n",
        "plt.ylabel('Price')\n",
        "plt.legend(loc='best')\n",
        "\n",
        "plt.show();"
      ],
      "execution_count": 15,
      "outputs": [
        {
          "output_type": "display_data",
          "data": {
            "image/png": "[encoded data removed]",
            "text/plain": [
              "<Figure size 432x288 with 1 Axes>"
            ]
          },
          "metadata": {
            "tags": [],
            "needs_background": "light"
          }
        }
      ]
    },
    {
      "cell_type": "code",
      "metadata": {
        "id": "5wPJ4wL0vfUd"
      },
      "source": [
        "plt.plot(y_test, label=\"Actual Price\", color='green')\n",
        "plt.plot(y_hat, label=\"Predicted Price\", color='red')\n",
        "\n",
        "plt.title(predict_value +\" \" + time_frame +\" price prediction scaled \" + str(datetime.datetime.now()))\n",
        "plt.xlabel('Time ['+time_frame +']')\n",
        "plt.ylabel('Price')\n",
        "plt.legend(loc='best')\n",
        "\n",
        "plt.show();"
      ],
      "execution_count": null,
      "outputs": []
    }
  ]
}